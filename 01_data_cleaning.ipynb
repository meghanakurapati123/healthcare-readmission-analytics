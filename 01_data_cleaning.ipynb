{
 "cells": [
  {
   "cell_type": "code",
   "execution_count": null,
   "id": "0f89283f-46ec-4677-8a3b-5ab8064f452d",
   "metadata": {},
   "outputs": [],
   "source": [
    "from pathlib import Path\n",
    "import pandas as pd\n",
    "import numpy as np\n",
    "\n",
    "DATA_DIR = Path(\"../data\")\n",
    "RAW_FILE = DATA_DIR / \"hospital_readmissions.csv\"   # confirm name\n",
    "CLEAN_FILE = DATA_DIR / \"cleaned_readmissions.csv\"\n",
    "\n",
    "pd.set_option(\"display.max_columns\", 100)\n",
    "RAW_FILE, RAW_FILE.exists()\n"
   ]
  },
  {
   "cell_type": "code",
   "execution_count": null,
   "id": "9e3c7dca-878f-4398-af74-73ab452f8a9e",
   "metadata": {},
   "outputs": [],
   "source": [
    "df = pd.read_csv(RAW_FILE, dtype=str)\n",
    "print(df.shape)\n",
    "df.head(3)\n"
   ]
  },
  {
   "cell_type": "code",
   "execution_count": null,
   "id": "19a842c9-77a6-4e75-bd49-9d69c79cc47e",
   "metadata": {},
   "outputs": [],
   "source": [
    "def standardize_cols(cols):\n",
    "    return [c.strip().lower().replace(\" \", \"_\").replace(\"/\", \"_\").replace(\"-\", \"_\") for c in cols]\n",
    "\n",
    "df.columns = standardize_cols(df.columns)\n",
    "df.columns.tolist()\n"
   ]
  },
  {
   "cell_type": "code",
   "execution_count": null,
   "id": "695e76d9-da8a-4c49-ba02-e7a282f1dfb9",
   "metadata": {},
   "outputs": [],
   "source": [
    "\n",
    "mask = df[\"measure_id\"].str.contains(\"READM-30\", na=False) if \"measure_id\" in df.columns else np.full(len(df), True)\n",
    "df = df[mask].copy()\n",
    "\n",
    "# Keep a clean subset (only keep columns that actually exist)\n",
    "wanted = [\n",
    "    \"facility_name\",\"facility_id\",\"state\",\"zip_code\",\"county_name\",\n",
    "    \"measure_id\",\"measure_name\",\"compared_to_national\",\n",
    "    \"score\",\"denominator\",\"lower_estimate\",\"higher_estimate\",\n",
    "    \"footnote\",\"start_date\",\"end_date\"\n",
    "]\n",
    "df = df[[c for c in wanted if c in df.columns]].copy()\n",
    "df.head(3)\n"
   ]
  },
  {
   "cell_type": "code",
   "execution_count": null,
   "id": "938e16ea-96f2-4426-b20d-4982785d94c9",
   "metadata": {},
   "outputs": [],
   "source": [
    "def to_num(s):\n",
    "    return pd.to_numeric(s, errors=\"coerce\")\n",
    "\n",
    "for col in [\"score\",\"denominator\",\"lower_estimate\",\"higher_estimate\"]:\n",
    "    if col in df.columns:\n",
    "        df[col] = to_num(df[col])\n",
    "\n",
    "# Ensure facility_id is string (often leading zeros)\n",
    "if \"facility_id\" in df.columns:\n",
    "    df[\"facility_id\"] = df[\"facility_id\"].astype(str).str.zfill(6)\n"
   ]
  },
  {
   "cell_type": "code",
   "execution_count": null,
   "id": "efc5c58d-1656-4c75-b7c1-b72822f283be",
   "metadata": {},
   "outputs": [],
   "source": [
    "for col in [\"facility_name\",\"state\",\"county_name\",\"measure_id\",\"measure_name\",\"compared_to_national\"]:\n",
    "    if col in df.columns:\n",
    "        df[col] = df[col].astype(str).str.strip()\n",
    "\n",
    "for col in [\"start_date\",\"end_date\"]:\n",
    "    if col in df.columns:\n",
    "        df[col] = pd.to_datetime(df[col], errors=\"coerce\")\n"
   ]
  },
  {
   "cell_type": "code",
   "execution_count": null,
   "id": "a171d90b-fb67-433e-965d-b93e5343e13a",
   "metadata": {},
   "outputs": [],
   "source": [
    "measure_map = {\n",
    "    \"READM-30-AMI-HRRP\": \"Acute Myocardial Infarction\",\n",
    "    \"READM-30-HF-HRRP\": \"Heart Failure\",\n",
    "    \"READM-30-PN-HRRP\": \"Pneumonia\",\n",
    "    \"READM-30-COPD-HRRP\": \"COPD\",\n",
    "    \"READM-30-CABG-HRRP\": \"CABG\",\n",
    "    \"READM-30-HIP-KNEE-HRRP\": \"Hip/Knee Replacement\"\n",
    "}\n",
    "\n",
    "if \"measure_id\" in df.columns:\n",
    "    df[\"condition\"] = df[\"measure_id\"].map(measure_map).fillna(df.get(\"measure_name\", \"Other\"))\n",
    "else:\n",
    "    df[\"condition\"] = df.get(\"measure_name\", \"Other\")\n",
    "\n",
    "df[\"condition\"].value_counts().head(10)\n"
   ]
  },
  {
   "cell_type": "code",
   "execution_count": null,
   "id": "7029f5b1-e8eb-4249-9498-5063a12bd1ba",
   "metadata": {},
   "outputs": [],
   "source": [
    "# Risk band using quantiles (only where score present)\n",
    "if \"score\" in df.columns:\n",
    "    df[\"risk_band\"] = pd.qcut(df[\"score\"], q=4, labels=[\"Low\",\"Moderate\",\"Elevated\",\"High\"])\n",
    "else:\n",
    "    df[\"risk_band\"] = np.nan\n",
    "\n",
    "# Drop exact duplicates just in case\n",
    "df = df.drop_duplicates().reset_index(drop=True)\n",
    "df.sample(5)\n"
   ]
  },
  {
   "cell_type": "code",
   "execution_count": null,
   "id": "35ae5a7f-cd74-4072-87f1-a9c50e8fb936",
   "metadata": {},
   "outputs": [],
   "source": [
    "summary = {\n",
    "    \"rows\": len(df),\n",
    "    \"null_score_pct\": round(df[\"score\"].isna().mean()*100, 2) if \"score\" in df.columns else None,\n",
    "    \"date_range\": (\n",
    "        df[\"start_date\"].min(), df[\"end_date\"].max()\n",
    "    ) if \"start_date\" in df.columns and \"end_date\" in df.columns else (\"N/A\",\"N/A\"),\n",
    "    \"states\": df[\"state\"].nunique() if \"state\" in df.columns else None,\n",
    "    \"hospitals\": df[\"facility_id\"].nunique() if \"facility_id\" in df.columns else None\n",
    "}\n",
    "summary\n"
   ]
  },
  {
   "cell_type": "code",
   "execution_count": null,
   "id": "92e35ce1-395a-4085-a386-058332d51b14",
   "metadata": {},
   "outputs": [],
   "source": [
    "df.to_csv(CLEAN_FILE, index=False)\n",
    "CLEAN_FILE, CLEAN_FILE.exists(), pd.read_csv(CLEAN_FILE, nrows=3).shape\n"
   ]
  }
 ],
 "metadata": {
  "kernelspec": {
   "display_name": "Python 3 (ipykernel)",
   "language": "python",
   "name": "python3"
  },
  "language_info": {
   "codemirror_mode": {
    "name": "ipython",
    "version": 3
   },
   "file_extension": ".py",
   "mimetype": "text/x-python",
   "name": "python",
   "nbconvert_exporter": "python",
   "pygments_lexer": "ipython3",
   "version": "3.9.6"
  }
 },
 "nbformat": 4,
 "nbformat_minor": 5
}
